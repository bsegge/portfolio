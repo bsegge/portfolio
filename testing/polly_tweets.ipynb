{
 "cells": [
  {
   "cell_type": "code",
   "execution_count": 2,
   "metadata": {},
   "outputs": [
    {
     "name": "stdout",
     "output_type": "stream",
     "text": [
      "By ousting a five-term Republican congressman in this week’s primary, Lauren Boebert may have handed Democrats thei… https://t.co/I6ljiqbpp0\n",
      "RT @KyleNewmanDP: #Rockies Insider: With Colorado’s farm teams potentially extinct, remember the state’s first and most memorable minor lea…\n",
      "RT @Conrad_Swanson: Over the next four months, Gardner and Hickenlooper will go blow-for-blow across the state in the electoral equivalent…\n",
      "Rocket Mortgage Classic hits and misses from Round 3: Matthew Wolff is barely legal https://t.co/heAr1ZtAew\n",
      "Cory Gardner is the most powerful Republican in Colorado and John Hickenlooper is the state's best-known Democrat.… https://t.co/HSBFZjPMzS\n",
      "RT @TonyPaul1984: Here are your final-round tee times at the @RocketClassic \n",
      "\n",
      "https://t.co/mJ1fympWFr https://t.co/SsqL5nKOf9\n",
      "Not everyone thinks the economy is doing so poorly. https://t.co/12cO1J4Pqv\n",
      "Check out our #4thofJuly weekend playlist, featuring music by #HarryStyles, #MeganTheeStallion and more   https://t.co/NGsA5zaXb2\n",
      "The world is stressful. Meditation might help. Here's where to start. https://t.co/UOUjPCktpn\n",
      "Take me to your leaders, Europa. https://t.co/lyra6mEkfQ\n",
      "A roller-rink regular transforms her home into a space for rhythm skating and workouts; “I felt muscles I never kne… https://t.co/JL2POlF1D7\n",
      "‘This is our time:’ Muskegon Black Lives Matter chapter hosts rally for equality https://t.co/RMN6HPi1zt\n",
      "Legal maneuvering is underway trying to stop the first executions of federal prisoners in several years. \n",
      "Ask your… https://t.co/sLe0RbbTRe\n",
      "Detroit Tigers' Spencer Torkelson brings fireworks to Fourth of July workouts https://t.co/vvfZzBFBld\n",
      "RT @OhioStateOnBTN: 3Q, 2:20: 54-yard punt return TD\n",
      "4Q, 14:03: 6-yard TD catch\n",
      "4Q, 4:21: 15-yard TD catch\n",
      "4Q, 2:49: 54-yard TD catch\n",
      "\n",
      "On a…\n",
      "Here’s what the new normal looks like for international air travel as lockdowns begin lifting. https://t.co/5n8duNvSfF\n",
      "Tom Petty’s 1993 \"You Don’t Know How It Feels\" demo is an acoustic heartbreaker https://t.co/ycgeWcj4HN\n",
      "Over the last two months Colorado’s coronavirus outbreaks have shifted to locations that don’t concentrate vulnerab… https://t.co/D6fByuF9h3\n",
      "Google is apparently delaying the reopening of its US offices after coronavirus cases have surged in several states. https://t.co/sJ7bp1Xwxy\n",
      "Doc Redman was last year's Rocket Mortgage Classic runner-up. Does he have any magic left? https://t.co/X9OK2Kzd92\n"
     ]
    }
   ],
   "source": [
    "import tweepy\n",
    "\n",
    "twitter_keys = {\n",
    "    'consumer_key':        'bitLxXv48dKyxsvLbr3SdESNk',\n",
    "    'consumer_secret':     '6HhEv806SNVeZ9pXrJ3Cl8nvxE9FmPwFigVrjg5pDeO5K9H7MP',\n",
    "    'access_token_key':    '1265425652389273600-3nom3DfZW3GBdCxan8FycMmaiRmnzi',\n",
    "    'access_token_secret': 'EgZbs8Pj6wNo3hGjKu1fEOHPC5m7RXpYdtkyxIqmJpyV9'\n",
    "}\n",
    "\n",
    "auth = tweepy.OAuthHandler(twitter_keys['consumer_key'], twitter_keys['consumer_secret'])\n",
    "auth.set_access_token(twitter_keys['access_token_key'], twitter_keys['access_token_secret'])\n",
    "\n",
    "api = tweepy.API(auth)\n",
    "\n",
    "public_tweets = api.home_timeline()\n",
    "for tweet in public_tweets:\n",
    "    print(tweet.text)"
   ]
  },
  {
   "cell_type": "code",
   "execution_count": 4,
   "metadata": {},
   "outputs": [
    {
     "data": {
      "text/plain": [
       "{'created_at': 'Sat Jul 04 23:17:46 +0000 2020',\n",
       " 'id': 1279555027502346241,\n",
       " 'id_str': '1279555027502346241',\n",
       " 'text': 'By ousting a five-term Republican congressman in this week’s primary, Lauren Boebert may have handed Democrats thei… https://t.co/I6ljiqbpp0',\n",
       " 'truncated': True,\n",
       " 'entities': {'hashtags': [],\n",
       "  'symbols': [],\n",
       "  'user_mentions': [],\n",
       "  'urls': [{'url': 'https://t.co/I6ljiqbpp0',\n",
       "    'expanded_url': 'https://twitter.com/i/web/status/1279555027502346241',\n",
       "    'display_url': 'twitter.com/i/web/status/1…',\n",
       "    'indices': [117, 140]}]},\n",
       " 'source': '<a href=\"http://www.socialflow.com\" rel=\"nofollow\">SocialFlow</a>',\n",
       " 'in_reply_to_status_id': None,\n",
       " 'in_reply_to_status_id_str': None,\n",
       " 'in_reply_to_user_id': None,\n",
       " 'in_reply_to_user_id_str': None,\n",
       " 'in_reply_to_screen_name': None,\n",
       " 'user': {'id': 8216772,\n",
       "  'id_str': '8216772',\n",
       "  'name': 'The Denver Post',\n",
       "  'screen_name': 'denverpost',\n",
       "  'location': 'Denver, CO',\n",
       "  'description': \"Colorado's source for breaking news and information. Get unlimited digital access https://t.co/1v4RgsBl4b or get the news sent straight to you https://t.co/sYORpoazmo.\",\n",
       "  'url': 'http://t.co/HvDYiwfHFX',\n",
       "  'entities': {'url': {'urls': [{'url': 'http://t.co/HvDYiwfHFX',\n",
       "      'expanded_url': 'http://www.denverpost.com/',\n",
       "      'display_url': 'denverpost.com',\n",
       "      'indices': [0, 22]}]},\n",
       "   'description': {'urls': [{'url': 'https://t.co/1v4RgsBl4b',\n",
       "      'expanded_url': 'http://dpo.st/subscribe',\n",
       "      'display_url': 'dpo.st/subscribe',\n",
       "      'indices': [82, 105]},\n",
       "     {'url': 'https://t.co/sYORpoazmo',\n",
       "      'expanded_url': 'http://dpo.st/newsletters',\n",
       "      'display_url': 'dpo.st/newsletters',\n",
       "      'indices': [143, 166]}]}},\n",
       "  'protected': False,\n",
       "  'followers_count': 447363,\n",
       "  'friends_count': 815,\n",
       "  'listed_count': 5943,\n",
       "  'created_at': 'Thu Aug 16 04:20:09 +0000 2007',\n",
       "  'favourites_count': 3756,\n",
       "  'utc_offset': None,\n",
       "  'time_zone': None,\n",
       "  'geo_enabled': True,\n",
       "  'verified': True,\n",
       "  'statuses_count': 213993,\n",
       "  'lang': None,\n",
       "  'contributors_enabled': False,\n",
       "  'is_translator': False,\n",
       "  'is_translation_enabled': False,\n",
       "  'profile_background_color': '000000',\n",
       "  'profile_background_image_url': 'http://abs.twimg.com/images/themes/theme1/bg.png',\n",
       "  'profile_background_image_url_https': 'https://abs.twimg.com/images/themes/theme1/bg.png',\n",
       "  'profile_background_tile': False,\n",
       "  'profile_image_url': 'http://pbs.twimg.com/profile_images/1011025399201927168/K8RRaEBZ_normal.jpg',\n",
       "  'profile_image_url_https': 'https://pbs.twimg.com/profile_images/1011025399201927168/K8RRaEBZ_normal.jpg',\n",
       "  'profile_banner_url': 'https://pbs.twimg.com/profile_banners/8216772/1506881357',\n",
       "  'profile_link_color': '257DDB',\n",
       "  'profile_sidebar_border_color': '000000',\n",
       "  'profile_sidebar_fill_color': '003459',\n",
       "  'profile_text_color': '626262',\n",
       "  'profile_use_background_image': True,\n",
       "  'has_extended_profile': True,\n",
       "  'default_profile': False,\n",
       "  'default_profile_image': False,\n",
       "  'following': True,\n",
       "  'follow_request_sent': False,\n",
       "  'notifications': False,\n",
       "  'translator_type': 'regular'},\n",
       " 'geo': None,\n",
       " 'coordinates': None,\n",
       " 'place': None,\n",
       " 'contributors': None,\n",
       " 'is_quote_status': False,\n",
       " 'retweet_count': 0,\n",
       " 'favorite_count': 0,\n",
       " 'favorited': False,\n",
       " 'retweeted': False,\n",
       " 'possibly_sensitive': False,\n",
       " 'possibly_sensitive_appealable': False,\n",
       " 'lang': 'en'}"
      ]
     },
     "execution_count": 4,
     "metadata": {},
     "output_type": "execute_result"
    }
   ],
   "source": [
    "public_tweets[0]._json"
   ]
  },
  {
   "cell_type": "code",
   "execution_count": 6,
   "metadata": {},
   "outputs": [],
   "source": [
    "li_handles = [\n",
    "    \"@cnnbrk\",\n",
    "    \"@FoxNews\",\n",
    "    \"@AlibabaGroup\",\n",
    "    \"@CNN\",\n",
    "    \"@foxnewsradio\",\n",
    "    \"@FoxNewsSunday\",\n",
    "    \"@foxnewsalert\",\n",
    "    \"@BarackObama\",\n",
    "    \"@WhiteHouse\",\n",
    "    \"@realDonaldTrump\",\n",
    "    \"@BernieSanders\",\n",
    "    \"@SenWarren\",\n",
    "    \"@FiveThirtyEight\",\n",
    "    \"@CNET\",\n",
    "    \"@BigTenNetwork\",\n",
    "    \"@MSU_Basketball\",\n",
    "]"
   ]
  },
  {
   "cell_type": "code",
   "execution_count": 8,
   "metadata": {},
   "outputs": [
    {
     "data": {
      "text/plain": [
       "'cnnbrk'"
      ]
     },
     "execution_count": 8,
     "metadata": {},
     "output_type": "execute_result"
    }
   ],
   "source": [
    "api.get_user(\"@cnnbrk\").screen_name"
   ]
  },
  {
   "cell_type": "code",
   "execution_count": 62,
   "metadata": {},
   "outputs": [
    {
     "name": "stdout",
     "output_type": "stream",
     "text": [
      "CNN Breaking News at 2020-07-04 19:11:53: An 8-year-old was killed and three others were hurt after a shooting broke out on Friday afternoon at an Alabama ma… https://t.co/wmeenhgKXp\n",
      "Fox News at 2020-07-05 01:23:51: https://t.co/uqKGM7EgDX\n",
      "Alibaba Group at 2020-07-03 08:35:27: In this week’s News Roundup, we look at \n",
      "@alibaba_cloud's global growth ambitions, a plant-based partnership with… https://t.co/fl0YxOekfX\n",
      "CNN at 2020-07-05 02:31:05: This vintage clothing store has a blunt message for customers who won't wear masks https://t.co/AzAFFw2Wew\n",
      "FOX News Radio at 2020-07-05 02:15:08: \"The fish are all in therapy now,\" @PlanetTyrus &amp; @KatTimpf weigh in on traumatized fish on the latest #TyrusNTimpf… https://t.co/CKKjmFL65h\n",
      "FoxNewsSunday at 2020-07-03 19:59:16: THIS SUNDAY: Mike Emanuel will be joined by Rhode Island Senator Jack Reed of the Armed Services Committee to cover… https://t.co/wZAYNM8C3q\n",
      "Fox News Alert at 2019-07-29 14:36:58: President Trump welcomes 9/11 first responders to the White House, signs bill extending funding for the 9/11 Victim… https://t.co/G1M1p5jFCh\n",
      "Barack Obama at 2020-07-04 14:35:02: Our founding promise has never been guaranteed. Each generation has been called to bring us a little closer to our… https://t.co/GVmt02uZXG\n",
      "The White House at 2020-07-05 00:55:03: Happy Fourth of July! 🇺🇸 🇺🇸 🇺🇸 https://t.co/IwAeTsuZ5c\n",
      "Donald J. Trump at 2020-07-04 22:41:30: RT @WhiteHouse: LIVE: Salute to America! https://t.co/RFcc6Pf0uh\n",
      "Bernie Sanders at 2020-07-04 14:13:06: Today I want to wish everybody a happy Fourth of July weekend. I hope that today, we take a look at where we have c… https://t.co/wzWCPj50ES\n",
      "Elizabeth Warren at 2020-07-04 15:35:47: Wishing everyone in Massachusetts and across the US a safe and happy July 4th! Remember that staying home, social d… https://t.co/yetBKuh5Ag\n",
      "FiveThirtyEight at 2020-07-05 02:02:01: The winners and losers in our updated NBA forecast: https://t.co/AJISjjBbMP\n",
      "CNET at 2020-07-05 02:00:00: Okay robots now let's get in formation 🏀 https://t.co/DFRV93T2Hq\n",
      "Big Ten Network at 2020-07-04 22:46:40: RT @OhioStateOnBTN: 3Q, 2:20: 54-yard punt return TD\n",
      "4Q, 14:03: 6-yard TD catch\n",
      "4Q, 4:21: 15-yard TD catch\n",
      "4Q, 2:49: 54-yard TD catch\n",
      "\n",
      "On a…\n",
      "Michigan State Basketball at 2020-07-04 15:17:38: RT @Coach_mtucker: Happy #FourthOfJuly 🇺🇸 Independence Day! \n",
      "\n",
      "Today we remember everything that we've been through as a country and are rem…\n",
      "Spartan Basketball at 2020-07-04 14:36:24: RT @SuzyMerchant: Happy 4th of July, Spartan Nation! 🇺🇸\n",
      "MLive at 2020-07-05 00:33:12: Tight end prospect Jake Renda make Fourth of July commitment to Michigan State https://t.co/pyJ8N4cx66\n",
      "Detroit Free Press at 2020-07-05 02:20:04: Rocket Mortgage Classic tee times for Sunday's final round: The complete list https://t.co/Zm8yWnzJ57\n",
      "The Detroit News at 2020-07-05 02:30:00: A Kansas newspaper whose publisher is a county Republican Party chairman posted a cartoon on its Facebook page like… https://t.co/GXp9rol8cf\n",
      "The Denver Post at 2020-07-05 02:07:56: The official cause for firing all of the officers: conduct unbecoming. https://t.co/LVMx7X52qY\n",
      "The Wall Street Journal at 2020-07-05 02:30:05: From @WSJopinion: The protesters say they want a revolution, but compare them to the American revolutionaries on th… https://t.co/wtklluLDVP\n",
      "billboard at 2020-07-05 02:00:09: What's your song of the summer 2020? Vote below! https://t.co/CDSdBRRwIg\n",
      "Rolling Stone at 2020-07-05 00:15:02: ‘RS Interview: Special Edition’ with Ringo Starr https://t.co/3kuLi6KgQy\n",
      "NPR Music at 2020-07-04 21:03:02: From NPR Live Sessions: Watch Foxygen perform \"America\" in WFUV's Studio A. https://t.co/EA5PQhunaL\n",
      "NPR Politics at 2020-07-05 01:59:03: In Fourth Of July Remarks, Trump Attacks 'Radical Left' https://t.co/mi0NX0QaPt\n",
      "NPR DollarPolitics at 2009-07-23 21:36:58: NPR investigation finds big drug companies spent $40 million in three months lobbying Congress. http://tinyurl.com/n9euoy\n",
      "NPR at 2020-07-05 02:04:15: In a Fourth of July speech aimed at commemorating the military on Saturday, President Trump hit on familiar divisiv… https://t.co/dKec6RKu2z\n",
      "The New York Times at 2020-07-05 02:25:03: In Opinion\n",
      "\n",
      "\"I’ve come to believe that my father was one of the “hidden victims” of the coronavirus pandemic. Docto… https://t.co/acOUoMXVFt\n"
     ]
    }
   ],
   "source": [
    "for friend in tweepy.Cursor(api.friends).items():\n",
    "    print(f'{friend.name} at {friend.status.created_at}: {friend.status.text}')"
   ]
  },
  {
   "cell_type": "code",
   "execution_count": 63,
   "metadata": {},
   "outputs": [
    {
     "data": {
      "text/plain": [
       "{'id': 428333,\n",
       " 'id_str': '428333',\n",
       " 'name': 'CNN Breaking News',\n",
       " 'screen_name': 'cnnbrk',\n",
       " 'location': 'Everywhere',\n",
       " 'description': 'Breaking news from CNN Digital. Now 57M strong. Check @cnn for all things CNN, breaking and more. Download the app for custom alerts: https://t.co/UCHG9M367J',\n",
       " 'url': 'http://t.co/HjKR4r61U5',\n",
       " 'entities': {'url': {'urls': [{'url': 'http://t.co/HjKR4r61U5',\n",
       "     'expanded_url': 'http://cnn.com/',\n",
       "     'display_url': 'cnn.com',\n",
       "     'indices': [0, 22]}]},\n",
       "  'description': {'urls': [{'url': 'https://t.co/UCHG9M367J',\n",
       "     'expanded_url': 'http://cnn.com/apps',\n",
       "     'display_url': 'cnn.com/apps',\n",
       "     'indices': [134, 157]}]}},\n",
       " 'protected': False,\n",
       " 'followers_count': 58205385,\n",
       " 'friends_count': 119,\n",
       " 'listed_count': 182041,\n",
       " 'created_at': 'Tue Jan 02 01:48:14 +0000 2007',\n",
       " 'favourites_count': 21,\n",
       " 'utc_offset': None,\n",
       " 'time_zone': None,\n",
       " 'geo_enabled': False,\n",
       " 'verified': True,\n",
       " 'statuses_count': 71423,\n",
       " 'lang': None,\n",
       " 'status': {'created_at': 'Sun Jul 05 09:01:08 +0000 2020',\n",
       "  'id': 1279701836539342848,\n",
       "  'id_str': '1279701836539342848',\n",
       "  'text': 'At least 12 people were taken to the hospital after a shooting at a club in Greenville, South Carolina https://t.co/FmjuHnxtqL',\n",
       "  'truncated': False,\n",
       "  'entities': {'hashtags': [],\n",
       "   'symbols': [],\n",
       "   'user_mentions': [],\n",
       "   'urls': [{'url': 'https://t.co/FmjuHnxtqL',\n",
       "     'expanded_url': 'https://cnn.it/31Ncnam',\n",
       "     'display_url': 'cnn.it/31Ncnam',\n",
       "     'indices': [103, 126]}]},\n",
       "  'source': '<a href=\"http://www.socialflow.com\" rel=\"nofollow\">SocialFlow</a>',\n",
       "  'in_reply_to_status_id': None,\n",
       "  'in_reply_to_status_id_str': None,\n",
       "  'in_reply_to_user_id': None,\n",
       "  'in_reply_to_user_id_str': None,\n",
       "  'in_reply_to_screen_name': None,\n",
       "  'geo': None,\n",
       "  'coordinates': None,\n",
       "  'place': None,\n",
       "  'contributors': None,\n",
       "  'is_quote_status': False,\n",
       "  'retweet_count': 272,\n",
       "  'favorite_count': 600,\n",
       "  'favorited': False,\n",
       "  'retweeted': False,\n",
       "  'possibly_sensitive': False,\n",
       "  'lang': 'en'},\n",
       " 'contributors_enabled': False,\n",
       " 'is_translator': False,\n",
       " 'is_translation_enabled': True,\n",
       " 'profile_background_color': '323232',\n",
       " 'profile_background_image_url': 'http://abs.twimg.com/images/themes/theme1/bg.png',\n",
       " 'profile_background_image_url_https': 'https://abs.twimg.com/images/themes/theme1/bg.png',\n",
       " 'profile_background_tile': False,\n",
       " 'profile_image_url': 'http://pbs.twimg.com/profile_images/925092227667304448/fAY1HUu3_normal.jpg',\n",
       " 'profile_image_url_https': 'https://pbs.twimg.com/profile_images/925092227667304448/fAY1HUu3_normal.jpg',\n",
       " 'profile_banner_url': 'https://pbs.twimg.com/profile_banners/428333/1531855520',\n",
       " 'profile_link_color': '004287',\n",
       " 'profile_sidebar_border_color': 'DADADA',\n",
       " 'profile_sidebar_fill_color': 'EEEEEE',\n",
       " 'profile_text_color': '000000',\n",
       " 'profile_use_background_image': True,\n",
       " 'has_extended_profile': False,\n",
       " 'default_profile': False,\n",
       " 'default_profile_image': False,\n",
       " 'following': True,\n",
       " 'live_following': False,\n",
       " 'follow_request_sent': False,\n",
       " 'notifications': False,\n",
       " 'muting': False,\n",
       " 'blocking': False,\n",
       " 'blocked_by': False,\n",
       " 'translator_type': 'regular'}"
      ]
     },
     "execution_count": 63,
     "metadata": {},
     "output_type": "execute_result"
    }
   ],
   "source": [
    "api.friends()[0]._json"
   ]
  },
  {
   "cell_type": "code",
   "execution_count": 61,
   "metadata": {
    "scrolled": false
   },
   "outputs": [
    {
     "data": {
      "text/plain": [
       "{'created_at': 'Sat Jul 04 19:11:53 +0000 2020',\n",
       " 'id': 1279493151326187527,\n",
       " 'id_str': '1279493151326187527',\n",
       " 'text': 'An 8-year-old was killed and three others were hurt after a shooting broke out on Friday afternoon at an Alabama ma… https://t.co/wmeenhgKXp',\n",
       " 'truncated': True,\n",
       " 'entities': {'hashtags': [],\n",
       "  'symbols': [],\n",
       "  'user_mentions': [],\n",
       "  'urls': [{'url': 'https://t.co/wmeenhgKXp',\n",
       "    'expanded_url': 'https://twitter.com/i/web/status/1279493151326187527',\n",
       "    'display_url': 'twitter.com/i/web/status/1…',\n",
       "    'indices': [117, 140]}]},\n",
       " 'source': '<a href=\"http://www.socialflow.com\" rel=\"nofollow\">SocialFlow</a>',\n",
       " 'in_reply_to_status_id': None,\n",
       " 'in_reply_to_status_id_str': None,\n",
       " 'in_reply_to_user_id': None,\n",
       " 'in_reply_to_user_id_str': None,\n",
       " 'in_reply_to_screen_name': None,\n",
       " 'geo': None,\n",
       " 'coordinates': None,\n",
       " 'place': None,\n",
       " 'contributors': None,\n",
       " 'is_quote_status': False,\n",
       " 'retweet_count': 230,\n",
       " 'favorite_count': 561,\n",
       " 'favorited': False,\n",
       " 'retweeted': False,\n",
       " 'possibly_sensitive': False,\n",
       " 'lang': 'en'}"
      ]
     },
     "execution_count": 61,
     "metadata": {},
     "output_type": "execute_result"
    }
   ],
   "source": [
    "api.friends()[0]._json[\"status\"]"
   ]
  },
  {
   "cell_type": "markdown",
   "metadata": {},
   "source": [
    "### Useful functions for later"
   ]
  },
  {
   "cell_type": "code",
   "execution_count": null,
   "metadata": {},
   "outputs": [],
   "source": [
    "# def limit_handled(cursor):\n",
    "#     while True:\n",
    "#         try:\n",
    "#             yield cursor.next()\n",
    "#         except tweepy.RateLimitError:\n",
    "#             time.sleep(15 * 60)\n",
    "\n",
    "# for follower in limit_handled(tweepy.Cursor(api.followers).items()):\n",
    "#     if follower.friends_count < 300:\n",
    "#         print(follower.screen_name)\n",
    "\n",
    "\n",
    "# for status in tweepy.Cursor(api.user_timeline).items():\n",
    "#     # process status here\n",
    "#     process_status(status)\n",
    "\n",
    "# status = api.get_status(id, tweet_mode=\"extended\")\n",
    "# try:\n",
    "#     print(status.retweeted_status.full_text)\n",
    "# except AttributeError:  # Not a Retweet\n",
    "#     print(status.full_text)"
   ]
  }
 ],
 "metadata": {
  "kernelspec": {
   "display_name": "Python 3",
   "language": "python",
   "name": "python3"
  },
  "language_info": {
   "codemirror_mode": {
    "name": "ipython",
    "version": 3
   },
   "file_extension": ".py",
   "mimetype": "text/x-python",
   "name": "python",
   "nbconvert_exporter": "python",
   "pygments_lexer": "ipython3",
   "version": "3.7.6"
  }
 },
 "nbformat": 4,
 "nbformat_minor": 4
}
