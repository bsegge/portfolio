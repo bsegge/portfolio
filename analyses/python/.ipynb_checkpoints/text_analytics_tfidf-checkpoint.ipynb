{
 "cells": [
  {
   "cell_type": "markdown",
   "metadata": {},
   "source": [
    "# Term Frequency - Inverse Document Frequency; Text Analytics in Python"
   ]
  },
  {
   "cell_type": "markdown",
   "metadata": {},
   "source": [
    " "
   ]
  },
  {
   "cell_type": "code",
   "execution_count": 76,
   "metadata": {},
   "outputs": [],
   "source": [
    "import pandas as pd\n",
    "import numpy as np\n",
    "from spacy.lang.en.stop_words import STOP_WORDS\n",
    "from nltk.tokenize import word_tokenize, sent_tokenize"
   ]
  },
  {
   "cell_type": "code",
   "execution_count": 66,
   "metadata": {},
   "outputs": [],
   "source": [
    "stopwords = list(STOP_WORDS)"
   ]
  },
  {
   "cell_type": "code",
   "execution_count": 210,
   "metadata": {},
   "outputs": [],
   "source": [
    "# first we generate random text that will be used later in the model\n",
    "\n",
    "text = [[\"I really like chicken flavored ramen noodles.\",'food'],\n",
    "[\"I don't normally use coupons to buy groceries, even though I know you can save money.\",'food'],\n",
    "[\"Mediterranean cuisine is my favorite.\",'food'],\n",
    "[\"I drive a 2014 Ford Focus SE, but my dream car is a Toyota Tacoma.\",'car'],\n",
    "[\"Dark blue is the color I want my dream car to be.\",'car'],\n",
    "[\"I go to the University of Denver. I started in 2018 and expect to finish in 2020. I'm going for my masters of science in Data Science\",'school'],\n",
    "[\"The University of Denver is not like Michigan State University, which is public and has many more students than DU.\",'school'],\n",
    "[\"Pizza is my favorite food, even if that's pretty lame\",'food'],\n",
    "[\"The Toyota Tacoma is a truck that a lot of people have in Colorado. It's great because it's a small truck, but handles well in the mountains.\",'car'],\n",
    "[\"Michigan State Univsersity is a great school\",'school']]"
   ]
  },
  {
   "cell_type": "code",
   "execution_count": 211,
   "metadata": {},
   "outputs": [],
   "source": [
    "# create dataframe\n",
    "\n",
    "df = pd.DataFrame(text, columns = ['text','category'])"
   ]
  },
  {
   "cell_type": "code",
   "execution_count": 214,
   "metadata": {},
   "outputs": [
    {
     "data": {
      "text/html": [
       "<div>\n",
       "<style scoped>\n",
       "    .dataframe tbody tr th:only-of-type {\n",
       "        vertical-align: middle;\n",
       "    }\n",
       "\n",
       "    .dataframe tbody tr th {\n",
       "        vertical-align: top;\n",
       "    }\n",
       "\n",
       "    .dataframe thead th {\n",
       "        text-align: right;\n",
       "    }\n",
       "</style>\n",
       "<table border=\"1\" class=\"dataframe\">\n",
       "  <thead>\n",
       "    <tr style=\"text-align: right;\">\n",
       "      <th></th>\n",
       "      <th>text</th>\n",
       "      <th>category</th>\n",
       "    </tr>\n",
       "  </thead>\n",
       "  <tbody>\n",
       "    <tr>\n",
       "      <td>0</td>\n",
       "      <td>I really like chicken flavored ramen noodles.</td>\n",
       "      <td>food</td>\n",
       "    </tr>\n",
       "    <tr>\n",
       "      <td>1</td>\n",
       "      <td>I don't normally use coupons to buy groceries,...</td>\n",
       "      <td>food</td>\n",
       "    </tr>\n",
       "    <tr>\n",
       "      <td>2</td>\n",
       "      <td>Mediterranean cuisine is my favorite.</td>\n",
       "      <td>food</td>\n",
       "    </tr>\n",
       "    <tr>\n",
       "      <td>3</td>\n",
       "      <td>I drive a 2014 Ford Focus SE, but my dream car...</td>\n",
       "      <td>car</td>\n",
       "    </tr>\n",
       "    <tr>\n",
       "      <td>4</td>\n",
       "      <td>Dark blue is the color I want my dream car to be.</td>\n",
       "      <td>car</td>\n",
       "    </tr>\n",
       "    <tr>\n",
       "      <td>5</td>\n",
       "      <td>I go to the University of Denver. I started in...</td>\n",
       "      <td>school</td>\n",
       "    </tr>\n",
       "    <tr>\n",
       "      <td>6</td>\n",
       "      <td>The University of Denver is not like Michigan ...</td>\n",
       "      <td>school</td>\n",
       "    </tr>\n",
       "    <tr>\n",
       "      <td>7</td>\n",
       "      <td>Pizza is my favorite food, even if that's pret...</td>\n",
       "      <td>food</td>\n",
       "    </tr>\n",
       "    <tr>\n",
       "      <td>8</td>\n",
       "      <td>The Toyota Tacoma is a truck that a lot of peo...</td>\n",
       "      <td>car</td>\n",
       "    </tr>\n",
       "    <tr>\n",
       "      <td>9</td>\n",
       "      <td>Michigan State Univsersity is a great school</td>\n",
       "      <td>school</td>\n",
       "    </tr>\n",
       "  </tbody>\n",
       "</table>\n",
       "</div>"
      ],
      "text/plain": [
       "                                                text category\n",
       "0      I really like chicken flavored ramen noodles.     food\n",
       "1  I don't normally use coupons to buy groceries,...     food\n",
       "2              Mediterranean cuisine is my favorite.     food\n",
       "3  I drive a 2014 Ford Focus SE, but my dream car...      car\n",
       "4  Dark blue is the color I want my dream car to be.      car\n",
       "5  I go to the University of Denver. I started in...   school\n",
       "6  The University of Denver is not like Michigan ...   school\n",
       "7  Pizza is my favorite food, even if that's pret...     food\n",
       "8  The Toyota Tacoma is a truck that a lot of peo...      car\n",
       "9       Michigan State Univsersity is a great school   school"
      ]
     },
     "execution_count": 214,
     "metadata": {},
     "output_type": "execute_result"
    }
   ],
   "source": [
    "df"
   ]
  },
  {
   "cell_type": "code",
   "execution_count": 215,
   "metadata": {},
   "outputs": [],
   "source": [
    "# minor text processing\n",
    "\n",
    "def text_process(dataframe, column_to_prep):\n",
    "    \"\"\"\n",
    "    Removes whitespace, special characters, and stop words\n",
    "    \n",
    "    input: dataframe(pandas dataframe)\n",
    "           column_to_prep(str)\n",
    "           \n",
    "    output: dataframe(pandas dataframe)\n",
    "    \"\"\"\n",
    "    \n",
    "    # lowercase all text\n",
    "    dataframe[f'{column_to_prep}'] = dataframe[f'{column_to_prep}'].str.lower()\n",
    "    \n",
    "    # remove whitespace\n",
    "    dataframe[f'{column_to_prep}'] = dataframe[f'{column_to_prep}'].str.strip()\n",
    "    \n",
    "    # remove stop words\n",
    "    dataframe[f'{column_to_prep}'] = (dataframe[f'{column_to_prep}']\n",
    "                                      .apply(lambda x: ' '.join([i for i in x.split() if i not in stopwords])))\n",
    "    \n",
    "    # remove punctuation\n",
    "    dataframe[f'{column_to_prep}'] = dataframe[f'{column_to_prep}'].str.replace('[^\\w\\s]','')\n",
    "    \n",
    "    return(dataframe)"
   ]
  },
  {
   "cell_type": "code",
   "execution_count": 216,
   "metadata": {},
   "outputs": [],
   "source": [
    "# creating column of word count in df\n",
    "\n",
    "def word_count(dataframe, column_to_count):\n",
    "    \"\"\"\n",
    "    Counts the frequency of words in a document\n",
    "    \n",
    "    input: dataframe(pandas dataframe)\n",
    "           column_to_prep(str)\n",
    "           \n",
    "    output: frequency(int)\n",
    "    \"\"\"\n",
    "    words = dataframe[f'{column_to_count}'].apply(lambda x: word_tokenize(' '.join([i for i in x.split()])))\n",
    "    dataframe['num_words'] = [len(i) for i in words]\n",
    "    \n",
    "    return(dataframe)"
   ]
  },
  {
   "cell_type": "code",
   "execution_count": 217,
   "metadata": {},
   "outputs": [],
   "source": [
    "# creating a dictionary with total word counts and inverse frequency\n",
    "\n",
    "def freq_dict(dataframe, column_to_count):\n",
    "    \"\"\"\n",
    "    Counts the frequency of words in all text\n",
    "    \n",
    "    input: dataframe(pandas dataframe)\n",
    "           column_to_prep(str)\n",
    "           \n",
    "    output: word_dict(dictionary: [count, inverse frequency])\n",
    "    \"\"\"\n",
    "    \n",
    "    word_dict = {}\n",
    "\n",
    "    for i in dataframe[f'{column_to_count}'].str.split().apply(pd.Series).stack():\n",
    "        if i in word_dict:\n",
    "            word_dict[i] += 1\n",
    "        else:\n",
    "            word_dict[i] = 1\n",
    "\n",
    "    for k,v in word_dict.items():\n",
    "        word_dict[k] = [v, np.log(len(df)/v)]\n",
    "\n",
    "    return(word_dict)"
   ]
  },
  {
   "cell_type": "code",
   "execution_count": 243,
   "metadata": {},
   "outputs": [],
   "source": [
    "# HERE WE SHOULD CALCULATE TF*IDF SOMEHOW, THEN MAKE THE MATRIX"
   ]
  },
  {
   "cell_type": "code",
   "execution_count": 244,
   "metadata": {},
   "outputs": [
    {
     "data": {
      "text/plain": [
       "[['like', 'chicken', 'flavored', 'ramen', 'noodles'],\n",
       " ['dont',\n",
       "  'normally',\n",
       "  'use',\n",
       "  'coupons',\n",
       "  'buy',\n",
       "  'groceries',\n",
       "  'know',\n",
       "  'save',\n",
       "  'money'],\n",
       " ['mediterranean', 'cuisine', 'favorite'],\n",
       " ['drive', '2014', 'ford', 'focus', 'se', 'dream', 'car', 'toyota', 'tacoma'],\n",
       " ['dark', 'blue', 'color', 'want', 'dream', 'car', 'be'],\n",
       " ['university',\n",
       "  'denver',\n",
       "  'started',\n",
       "  '2018',\n",
       "  'expect',\n",
       "  'finish',\n",
       "  '2020',\n",
       "  'im',\n",
       "  'going',\n",
       "  'masters',\n",
       "  'science',\n",
       "  'data',\n",
       "  'science'],\n",
       " ['university',\n",
       "  'denver',\n",
       "  'like',\n",
       "  'michigan',\n",
       "  'state',\n",
       "  'university',\n",
       "  'public',\n",
       "  'students',\n",
       "  'du'],\n",
       " ['pizza', 'favorite', 'food', 'thats', 'pretty', 'lame'],\n",
       " ['toyota',\n",
       "  'tacoma',\n",
       "  'truck',\n",
       "  'lot',\n",
       "  'people',\n",
       "  'colorado',\n",
       "  'its',\n",
       "  'great',\n",
       "  'its',\n",
       "  'small',\n",
       "  'truck',\n",
       "  'handles',\n",
       "  'mountains'],\n",
       " ['michigan', 'state', 'univsersity', 'great', 'school']]"
      ]
     },
     "execution_count": 244,
     "metadata": {},
     "output_type": "execute_result"
    }
   ],
   "source": [
    "test"
   ]
  },
  {
   "cell_type": "code",
   "execution_count": 191,
   "metadata": {
    "scrolled": true
   },
   "outputs": [
    {
     "data": {
      "text/plain": [
       "{'like': 2,\n",
       " 'chicken': 1,\n",
       " 'flavored': 1,\n",
       " 'ramen': 1,\n",
       " 'noodles': 1,\n",
       " 'dont': 1,\n",
       " 'normally': 1,\n",
       " 'use': 1,\n",
       " 'coupons': 1,\n",
       " 'buy': 1,\n",
       " 'groceries': 1,\n",
       " 'know': 1,\n",
       " 'save': 1,\n",
       " 'money': 1,\n",
       " 'mediterranean': 1,\n",
       " 'cuisine': 1,\n",
       " 'favorite': 2,\n",
       " 'drive': 1,\n",
       " '2014': 1,\n",
       " 'ford': 1,\n",
       " 'focus': 1,\n",
       " 'se': 1,\n",
       " 'dream': 2,\n",
       " 'car': 2,\n",
       " 'toyota': 2,\n",
       " 'tacoma': 2,\n",
       " 'dark': 1,\n",
       " 'blue': 1,\n",
       " 'color': 1,\n",
       " 'want': 1,\n",
       " 'be': 1,\n",
       " 'university': 3,\n",
       " 'denver': 2,\n",
       " 'started': 1,\n",
       " '2018': 1,\n",
       " 'expect': 1,\n",
       " 'finish': 1,\n",
       " '2020': 1,\n",
       " 'im': 1,\n",
       " 'going': 1,\n",
       " 'masters': 1,\n",
       " 'science': 2,\n",
       " 'data': 1,\n",
       " 'michigan': 2,\n",
       " 'state': 2,\n",
       " 'public': 1,\n",
       " 'students': 1,\n",
       " 'du': 1,\n",
       " 'pizza': 1,\n",
       " 'food': 1,\n",
       " 'thats': 1,\n",
       " 'pretty': 1,\n",
       " 'lame': 1,\n",
       " 'truck': 2,\n",
       " 'lot': 1,\n",
       " 'people': 1,\n",
       " 'colorado': 1,\n",
       " 'its': 2,\n",
       " 'great': 2,\n",
       " 'small': 1,\n",
       " 'handles': 1,\n",
       " 'mountains': 1,\n",
       " 'univsersity': 1,\n",
       " 'school': 1}"
      ]
     },
     "execution_count": 191,
     "metadata": {},
     "output_type": "execute_result"
    }
   ],
   "source": [
    "freq_dict(df, 'text')"
   ]
  },
  {
   "cell_type": "code",
   "execution_count": 91,
   "metadata": {},
   "outputs": [
    {
     "data": {
      "text/plain": [
       "0            [like, chicken, flavored, ramen, noodles]\n",
       "1    [dont, normally, use, coupons, buy, groceries,...\n",
       "2                   [mediterranean, cuisine, favorite]\n",
       "3    [drive, 2014, ford, focus, se, dream, car, toy...\n",
       "4            [dark, blue, color, want, dream, car, be]\n",
       "5    [university, denver, started, 2018, expect, fi...\n",
       "6    [university, denver, like, michigan, state, un...\n",
       "7         [pizza, favorite, food, thats, pretty, lame]\n",
       "8    [toyota, tacoma, truck, lot, people, colorado,...\n",
       "9        [michigan, state, univsersity, great, school]\n",
       "Name: text, dtype: object"
      ]
     },
     "execution_count": 91,
     "metadata": {},
     "output_type": "execute_result"
    }
   ],
   "source": [
    "df['text'].apply(lambda x: word_tokenize(' '.join([i for i in x.split()])))"
   ]
  },
  {
   "cell_type": "code",
   "execution_count": 89,
   "metadata": {},
   "outputs": [
    {
     "data": {
      "text/plain": [
       "['dont',\n",
       " 'normally',\n",
       " 'use',\n",
       " 'coupons',\n",
       " 'buy',\n",
       " 'groceries',\n",
       " 'know',\n",
       " 'save',\n",
       " 'money']"
      ]
     },
     "execution_count": 89,
     "metadata": {},
     "output_type": "execute_result"
    }
   ],
   "source": [
    "word_tokenize(df.iloc[1][0])"
   ]
  },
  {
   "cell_type": "code",
   "execution_count": null,
   "metadata": {},
   "outputs": [],
   "source": []
  }
 ],
 "metadata": {
  "kernelspec": {
   "display_name": "Python 3",
   "language": "python",
   "name": "python3"
  },
  "language_info": {
   "codemirror_mode": {
    "name": "ipython",
    "version": 3
   },
   "file_extension": ".py",
   "mimetype": "text/x-python",
   "name": "python",
   "nbconvert_exporter": "python",
   "pygments_lexer": "ipython3",
   "version": "3.7.4"
  }
 },
 "nbformat": 4,
 "nbformat_minor": 2
}
