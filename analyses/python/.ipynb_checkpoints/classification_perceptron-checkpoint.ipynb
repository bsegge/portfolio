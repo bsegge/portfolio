{
 "cells": [
  {
   "cell_type": "markdown",
   "metadata": {},
   "source": [
    "## Building a Perceptron from scratch - Brian Seggebruch"
   ]
  },
  {
   "cell_type": "code",
   "execution_count": 141,
   "metadata": {},
   "outputs": [],
   "source": [
    "import pandas as pd\n",
    "import numpy as np\n",
    "from sklearn import datasets\n",
    "from sklearn.metrics import classification_report, confusion_matrix\n",
    "from sklearn.model_selection import train_test_split"
   ]
  },
  {
   "cell_type": "markdown",
   "metadata": {},
   "source": [
    "###  Perceptron with Iris dataset"
   ]
  },
  {
   "cell_type": "code",
   "execution_count": 291,
   "metadata": {},
   "outputs": [
    {
     "data": {
      "text/plain": [
       "array(['setosa', 'versicolor', 'virginica'], dtype='<U10')"
      ]
     },
     "execution_count": 291,
     "metadata": {},
     "output_type": "execute_result"
    }
   ],
   "source": [
    "iris = datasets.load_iris()\n",
    "X = iris.data\n",
    "y = iris.target\n",
    "y_names = iris.target_names\n",
    "y_names"
   ]
  },
  {
   "cell_type": "markdown",
   "metadata": {},
   "source": [
    "We will be classifying the iris dataset as \"setosa\" (1) and \"not setosa\" (0)"
   ]
  },
  {
   "cell_type": "code",
   "execution_count": 292,
   "metadata": {},
   "outputs": [],
   "source": [
    "new_classes = []\n",
    "for i in y:\n",
    "    if i == 0:\n",
    "        new_classes.append(1)\n",
    "    else:\n",
    "        new_classes.append(0)\n",
    "y = np.array(new_classes)"
   ]
  },
  {
   "cell_type": "code",
   "execution_count": 293,
   "metadata": {},
   "outputs": [
    {
     "data": {
      "text/plain": [
       "array([1, 1, 1, 1, 1, 1, 1, 1, 1, 1, 1, 1, 1, 1, 1, 1, 1, 1, 1, 1, 1, 1,\n",
       "       1, 1, 1, 1, 1, 1, 1, 1, 1, 1, 1, 1, 1, 1, 1, 1, 1, 1, 1, 1, 1, 1,\n",
       "       1, 1, 1, 1, 1, 1, 0, 0, 0, 0, 0, 0, 0, 0, 0, 0, 0, 0, 0, 0, 0, 0,\n",
       "       0, 0, 0, 0, 0, 0, 0, 0, 0, 0, 0, 0, 0, 0, 0, 0, 0, 0, 0, 0, 0, 0,\n",
       "       0, 0, 0, 0, 0, 0, 0, 0, 0, 0, 0, 0, 0, 0, 0, 0, 0, 0, 0, 0, 0, 0,\n",
       "       0, 0, 0, 0, 0, 0, 0, 0, 0, 0, 0, 0, 0, 0, 0, 0, 0, 0, 0, 0, 0, 0,\n",
       "       0, 0, 0, 0, 0, 0, 0, 0, 0, 0, 0, 0, 0, 0, 0, 0, 0, 0])"
      ]
     },
     "execution_count": 293,
     "metadata": {},
     "output_type": "execute_result"
    }
   ],
   "source": [
    "y"
   ]
  },
  {
   "cell_type": "code",
   "execution_count": 339,
   "metadata": {},
   "outputs": [],
   "source": [
    "def predict_perceptron(input_vector, weights):\n",
    "    \"\"\"\n",
    "    Perceptron prediction function that will return a positive or negative classification\n",
    "    \n",
    "    input: \n",
    "        input_vector: numpy array; vector of independent variables\n",
    "        weights: iterable array object; repspective weights per input variable\n",
    "    output:\n",
    "        activation: binary; positive or negative classification\n",
    "    \"\"\"\n",
    "    # insert 1 to account for bias (1*bias in weight vector will have no effect)\n",
    "    input_vector = np.insert(input_vector,0,1)\n",
    "    # summation of input vector * weights\n",
    "    dot_prod = np.dot(input_vector, weights)\n",
    "    # if activation > 0 than postive classification, otherwise negative classification\n",
    "    activation = 1 if dot_prod > 0 else 0\n",
    "    return activation\n",
    "    \n",
    "def train_perceptron(input_vector, weights, labels, epochs=100, learning_rate=0.1):\n",
    "    \"\"\"\n",
    "    Perceptron training function that adjusts the weights and bias terms\n",
    "    \n",
    "    input:\n",
    "        input_vector: numpy array; matrix or numpy array of independent variables\n",
    "        weights: list; list of weights, one per independent variable plus 1 bias term\n",
    "        labels: list; the correct labels for the data\n",
    "        epochs: int; the number of iterations you'd like to train\n",
    "        learning_rate: float; the amount to \"learn\" each iteration\n",
    "    output:\n",
    "        weights: list; list of trained weights for the perceptron\n",
    "    \"\"\"\n",
    "    for _ in range(epochs):\n",
    "        for inp, lab in zip(input_vector, labels):\n",
    "            pred = predict_perceptron(inp, weights)\n",
    "            weights[1:] += learning_rate * (lab - pred) * inp\n",
    "            weights[0] += learning_rate * (lab - pred)\n",
    "    return weights"
   ]
  },
  {
   "cell_type": "code",
   "execution_count": 340,
   "metadata": {},
   "outputs": [],
   "source": [
    "X_train, X_test, y_train, y_test = train_test_split(X, y, test_size=0.33, random_state=42)"
   ]
  },
  {
   "cell_type": "code",
   "execution_count": 341,
   "metadata": {},
   "outputs": [
    {
     "name": "stdout",
     "output_type": "stream",
     "text": [
      "[0.2, 0.3800000000000001, 1.2400000000000002, -1.6400000000000001, -0.7]\n"
     ]
    }
   ],
   "source": [
    "# train weights on train set\n",
    "\n",
    "# set weights to 0 to start (including bias term)\n",
    "init_weights = [0 for i in range(len(X[0])+1)]\n",
    "init = [X_train, init_weights, y_train, 1000, 0.2]\n",
    "weights = train_perceptron(*init)\n",
    "print(weights)"
   ]
  },
  {
   "cell_type": "code",
   "execution_count": 342,
   "metadata": {},
   "outputs": [
    {
     "name": "stdout",
     "output_type": "stream",
     "text": [
      "              precision    recall  f1-score   support\n",
      "\n",
      "           0       1.00      1.00      1.00        69\n",
      "           1       1.00      1.00      1.00        31\n",
      "\n",
      "    accuracy                           1.00       100\n",
      "   macro avg       1.00      1.00      1.00       100\n",
      "weighted avg       1.00      1.00      1.00       100\n",
      "\n",
      "                       pred not-versicolor  pred versicolor\n",
      "actual not-versicolor                   69                0\n",
      "actual versicolor                        0               31\n"
     ]
    }
   ],
   "source": [
    "# test accuracy on training set\n",
    "\n",
    "predictions = []\n",
    "for row in X_train:\n",
    "    pred = predict_perceptron(row, weights)\n",
    "    predictions.append(pred)\n",
    "    \n",
    "class_report = classification_report(y_train, predictions)\n",
    "conf_report = confusion_matrix(y_train, predictions)\n",
    "print(class_report)\n",
    "print(\n",
    "    pd.DataFrame(\n",
    "        conf_report\n",
    "        , columns=['pred not-versicolor','pred versicolor']\n",
    "        , index=['actual not-versicolor','actual versicolor']\n",
    "    )\n",
    ")"
   ]
  },
  {
   "cell_type": "code",
   "execution_count": 343,
   "metadata": {},
   "outputs": [
    {
     "name": "stdout",
     "output_type": "stream",
     "text": [
      "              precision    recall  f1-score   support\n",
      "\n",
      "           0       1.00      1.00      1.00        31\n",
      "           1       1.00      1.00      1.00        19\n",
      "\n",
      "    accuracy                           1.00        50\n",
      "   macro avg       1.00      1.00      1.00        50\n",
      "weighted avg       1.00      1.00      1.00        50\n",
      "\n",
      "                       pred not-versicolor  pred versicolor\n",
      "actual not-versicolor                   31                0\n",
      "actual versicolor                        0               19\n"
     ]
    }
   ],
   "source": [
    "# test accuracy on test set\n",
    "\n",
    "predictions = []\n",
    "for row in X_test:\n",
    "    pred = predict_perceptron(row, weights)\n",
    "    predictions.append(pred)\n",
    "    \n",
    "class_report = classification_report(y_test, predictions)\n",
    "conf_report = confusion_matrix(y_test, predictions)\n",
    "print(class_report)\n",
    "print(\n",
    "    pd.DataFrame(\n",
    "        conf_report\n",
    "        , columns=['pred not-versicolor','pred versicolor']\n",
    "        , index=['actual not-versicolor','actual versicolor']\n",
    "    )\n",
    ")"
   ]
  },
  {
   "cell_type": "markdown",
   "metadata": {},
   "source": [
    "###### Conclusion: The Perceptron did a perfect job at classifying setosa iris'"
   ]
  }
 ],
 "metadata": {
  "kernelspec": {
   "display_name": "Python 3",
   "language": "python",
   "name": "python3"
  },
  "language_info": {
   "codemirror_mode": {
    "name": "ipython",
    "version": 3
   },
   "file_extension": ".py",
   "mimetype": "text/x-python",
   "name": "python",
   "nbconvert_exporter": "python",
   "pygments_lexer": "ipython3",
   "version": "3.7.6"
  }
 },
 "nbformat": 4,
 "nbformat_minor": 4
}
