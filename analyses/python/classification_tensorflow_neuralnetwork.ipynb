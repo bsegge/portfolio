{
 "cells": [
  {
   "cell_type": "markdown",
   "metadata": {},
   "source": [
    "## Brian Seggebruch - 873408239 - Assignment 4"
   ]
  },
  {
   "cell_type": "code",
   "execution_count": null,
   "metadata": {},
   "outputs": [],
   "source": [
    "# Brian Seggebruch - 873408239 - Assignment 4"
   ]
  },
  {
   "cell_type": "code",
   "execution_count": 24,
   "metadata": {},
   "outputs": [],
   "source": [
    "import tensorflow as tf\n",
    "from tensorflow import keras\n",
    "import pandas as pd\n",
    "import matplotlib.pyplot as plt\n",
    "import numpy as np"
   ]
  },
  {
   "cell_type": "markdown",
   "metadata": {},
   "source": [
    "### Fashion MNIST"
   ]
  },
  {
   "cell_type": "code",
   "execution_count": 4,
   "metadata": {},
   "outputs": [],
   "source": [
    "fashion_mnist = keras.datasets.fashion_mnist"
   ]
  },
  {
   "cell_type": "code",
   "execution_count": 6,
   "metadata": {},
   "outputs": [
    {
     "name": "stdout",
     "output_type": "stream",
     "text": [
      "Downloading data from https://storage.googleapis.com/tensorflow/tf-keras-datasets/train-labels-idx1-ubyte.gz\n",
      "32768/29515 [=================================] - 0s 1us/step\n",
      "Downloading data from https://storage.googleapis.com/tensorflow/tf-keras-datasets/train-images-idx3-ubyte.gz\n",
      "26427392/26421880 [==============================] - 3s 0us/step\n",
      "Downloading data from https://storage.googleapis.com/tensorflow/tf-keras-datasets/t10k-labels-idx1-ubyte.gz\n",
      "8192/5148 [===============================================] - 0s 0us/step\n",
      "Downloading data from https://storage.googleapis.com/tensorflow/tf-keras-datasets/t10k-images-idx3-ubyte.gz\n",
      "4423680/4422102 [==============================] - 1s 0us/step\n"
     ]
    }
   ],
   "source": [
    "(X_train_full, y_train_full), (X_test, y_test) = fashion_mnist.load_data()"
   ]
  },
  {
   "cell_type": "code",
   "execution_count": 7,
   "metadata": {},
   "outputs": [
    {
     "data": {
      "text/plain": [
       "(60000, 28, 28)"
      ]
     },
     "execution_count": 7,
     "metadata": {},
     "output_type": "execute_result"
    }
   ],
   "source": [
    "X_train_full.shape"
   ]
  },
  {
   "cell_type": "code",
   "execution_count": 8,
   "metadata": {},
   "outputs": [],
   "source": [
    "X_valid, X_train = X_train_full[:5000] / 255.0, X_train_full[5000:] / 255.0\n",
    "y_valid, y_train = y_train_full[:5000], y_train_full[5000:]"
   ]
  },
  {
   "cell_type": "code",
   "execution_count": 9,
   "metadata": {},
   "outputs": [],
   "source": [
    "class_names = [\n",
    "    \"T-shirt/top\",\"Trouser\",\"Pullover\",\"Dress\",\"Coat\",\"Sandal\",\"Shirt\",\"Sneaker\",\"Bag\",\"Ankle boot\"\n",
    "]"
   ]
  },
  {
   "cell_type": "code",
   "execution_count": 10,
   "metadata": {},
   "outputs": [
    {
     "data": {
      "text/plain": [
       "'Coat'"
      ]
     },
     "execution_count": 10,
     "metadata": {},
     "output_type": "execute_result"
    }
   ],
   "source": [
    "class_names[y_train[0]]"
   ]
  },
  {
   "cell_type": "markdown",
   "metadata": {},
   "source": [
    "Build our NN with 2 hidden layers using the Rectified Linear Unit activation function, and one output layer using the Softmax activation function"
   ]
  },
  {
   "cell_type": "code",
   "execution_count": 12,
   "metadata": {},
   "outputs": [
    {
     "name": "stdout",
     "output_type": "stream",
     "text": [
      "WARNING:tensorflow:From C:\\Users\\Brian.Seggebruch\\Anaconda3\\lib\\site-packages\\tensorflow\\python\\ops\\init_ops.py:1251: calling VarianceScaling.__init__ (from tensorflow.python.ops.init_ops) with dtype is deprecated and will be removed in a future version.\n",
      "Instructions for updating:\n",
      "Call initializer instance with the dtype argument instead of passing it to the constructor\n"
     ]
    }
   ],
   "source": [
    "model = keras.models.Sequential()\n",
    "model.add(keras.layers.Flatten(input_shape=[28,28]))\n",
    "model.add(keras.layers.Dense(300, activation=\"relu\"))\n",
    "model.add(keras.layers.Dense(100, activation=\"relu\"))         \n",
    "model.add(keras.layers.Dense(10, activation=\"softmax\"))"
   ]
  },
  {
   "cell_type": "code",
   "execution_count": 13,
   "metadata": {},
   "outputs": [
    {
     "name": "stdout",
     "output_type": "stream",
     "text": [
      "Model: \"sequential_1\"\n",
      "_________________________________________________________________\n",
      "Layer (type)                 Output Shape              Param #   \n",
      "=================================================================\n",
      "flatten (Flatten)            (None, 784)               0         \n",
      "_________________________________________________________________\n",
      "dense (Dense)                (None, 300)               235500    \n",
      "_________________________________________________________________\n",
      "dense_1 (Dense)              (None, 100)               30100     \n",
      "_________________________________________________________________\n",
      "dense_2 (Dense)              (None, 10)                1010      \n",
      "=================================================================\n",
      "Total params: 266,610\n",
      "Trainable params: 266,610\n",
      "Non-trainable params: 0\n",
      "_________________________________________________________________\n"
     ]
    }
   ],
   "source": [
    "model.summary()"
   ]
  },
  {
   "cell_type": "markdown",
   "metadata": {},
   "source": [
    "Compile the model using the Sparse Categorical Cross-Entropy loss function and Stochastic Gradient Descent as our optimizer, and setting \"accuracy\" as our metric (how many were correctly classified)"
   ]
  },
  {
   "cell_type": "code",
   "execution_count": null,
   "metadata": {},
   "outputs": [],
   "source": [
    "model.compile(\n",
    "    loss=\"sparse_categorical_crossentropy\"\n",
    "    ,optimizer=\"sgd\"\n",
    "    ,metrics=[\"accuracy\"]\n",
    ")"
   ]
  },
  {
   "cell_type": "markdown",
   "metadata": {},
   "source": [
    "Exploring the historic accuracy and loss of our model"
   ]
  },
  {
   "cell_type": "code",
   "execution_count": 15,
   "metadata": {},
   "outputs": [
    {
     "name": "stdout",
     "output_type": "stream",
     "text": [
      "Train on 55000 samples, validate on 5000 samples\n",
      "Epoch 1/30\n",
      "55000/55000 [==============================] - 2s 34us/sample - loss: 0.7305 - acc: 0.7603 - val_loss: 0.5115 - val_acc: 0.8330\n",
      "Epoch 2/30\n",
      "55000/55000 [==============================] - 2s 32us/sample - loss: 0.4929 - acc: 0.8283 - val_loss: 0.4666 - val_acc: 0.8380\n",
      "Epoch 3/30\n",
      "55000/55000 [==============================] - 2s 32us/sample - loss: 0.4461 - acc: 0.8437 - val_loss: 0.4210 - val_acc: 0.8536\n",
      "Epoch 4/30\n",
      "55000/55000 [==============================] - 2s 32us/sample - loss: 0.4182 - acc: 0.8533 - val_loss: 0.4316 - val_acc: 0.8454\n",
      "Epoch 5/30\n",
      "55000/55000 [==============================] - 2s 32us/sample - loss: 0.3989 - acc: 0.8601 - val_loss: 0.4019 - val_acc: 0.8546\n",
      "Epoch 6/30\n",
      "55000/55000 [==============================] - 2s 32us/sample - loss: 0.3828 - acc: 0.8659 - val_loss: 0.3717 - val_acc: 0.8716\n",
      "Epoch 7/30\n",
      "55000/55000 [==============================] - 2s 32us/sample - loss: 0.3700 - acc: 0.8692 - val_loss: 0.3686 - val_acc: 0.8756\n",
      "Epoch 8/30\n",
      "55000/55000 [==============================] - 2s 34us/sample - loss: 0.3585 - acc: 0.8740 - val_loss: 0.3543 - val_acc: 0.8754\n",
      "Epoch 9/30\n",
      "55000/55000 [==============================] - 2s 31us/sample - loss: 0.3481 - acc: 0.8767 - val_loss: 0.3521 - val_acc: 0.8760\n",
      "Epoch 10/30\n",
      "55000/55000 [==============================] - 2s 32us/sample - loss: 0.3377 - acc: 0.8803 - val_loss: 0.3403 - val_acc: 0.8814\n",
      "Epoch 11/30\n",
      "55000/55000 [==============================] - 2s 32us/sample - loss: 0.3304 - acc: 0.8815 - val_loss: 0.3337 - val_acc: 0.8810\n",
      "Epoch 12/30\n",
      "55000/55000 [==============================] - 2s 32us/sample - loss: 0.3220 - acc: 0.8860 - val_loss: 0.3341 - val_acc: 0.8822\n",
      "Epoch 13/30\n",
      "55000/55000 [==============================] - 2s 32us/sample - loss: 0.3143 - acc: 0.8877 - val_loss: 0.3243 - val_acc: 0.8856\n",
      "Epoch 14/30\n",
      "55000/55000 [==============================] - 2s 32us/sample - loss: 0.3074 - acc: 0.8900 - val_loss: 0.3432 - val_acc: 0.8796\n",
      "Epoch 15/30\n",
      "55000/55000 [==============================] - 2s 34us/sample - loss: 0.3012 - acc: 0.8916 - val_loss: 0.3272 - val_acc: 0.8870\n",
      "Epoch 16/30\n",
      "55000/55000 [==============================] - 2s 32us/sample - loss: 0.2953 - acc: 0.8936 - val_loss: 0.3155 - val_acc: 0.8918\n",
      "Epoch 17/30\n",
      "55000/55000 [==============================] - 2s 33us/sample - loss: 0.2892 - acc: 0.8950 - val_loss: 0.3370 - val_acc: 0.8806\n",
      "Epoch 18/30\n",
      "55000/55000 [==============================] - 2s 31us/sample - loss: 0.2838 - acc: 0.8986 - val_loss: 0.3108 - val_acc: 0.8896\n",
      "Epoch 19/30\n",
      "55000/55000 [==============================] - 2s 31us/sample - loss: 0.2787 - acc: 0.8994 - val_loss: 0.3245 - val_acc: 0.8854\n",
      "Epoch 20/30\n",
      "55000/55000 [==============================] - 2s 32us/sample - loss: 0.2740 - acc: 0.9004 - val_loss: 0.3126 - val_acc: 0.8886\n",
      "Epoch 21/30\n",
      "55000/55000 [==============================] - 2s 32us/sample - loss: 0.2687 - acc: 0.9022 - val_loss: 0.3040 - val_acc: 0.8936\n",
      "Epoch 22/30\n",
      "55000/55000 [==============================] - 2s 32us/sample - loss: 0.2634 - acc: 0.9056 - val_loss: 0.3432 - val_acc: 0.8716\n",
      "Epoch 23/30\n",
      "55000/55000 [==============================] - 2s 31us/sample - loss: 0.2584 - acc: 0.9066 - val_loss: 0.3082 - val_acc: 0.8902\n",
      "Epoch 24/30\n",
      "55000/55000 [==============================] - 2s 32us/sample - loss: 0.2544 - acc: 0.9079 - val_loss: 0.3035 - val_acc: 0.8924\n",
      "Epoch 25/30\n",
      "55000/55000 [==============================] - 2s 31us/sample - loss: 0.2509 - acc: 0.9099 - val_loss: 0.3150 - val_acc: 0.8834\n",
      "Epoch 26/30\n",
      "55000/55000 [==============================] - 2s 33us/sample - loss: 0.2459 - acc: 0.9112 - val_loss: 0.3059 - val_acc: 0.8870\n",
      "Epoch 27/30\n",
      "55000/55000 [==============================] - 2s 31us/sample - loss: 0.2411 - acc: 0.9122 - val_loss: 0.3528 - val_acc: 0.8674\n",
      "Epoch 28/30\n",
      "55000/55000 [==============================] - 2s 33us/sample - loss: 0.2384 - acc: 0.9148 - val_loss: 0.3128 - val_acc: 0.8892\n",
      "Epoch 29/30\n",
      "55000/55000 [==============================] - 2s 33us/sample - loss: 0.2341 - acc: 0.9157 - val_loss: 0.3318 - val_acc: 0.8776\n",
      "Epoch 30/30\n",
      "55000/55000 [==============================] - 2s 32us/sample - loss: 0.2308 - acc: 0.9165 - val_loss: 0.3021 - val_acc: 0.8960\n"
     ]
    }
   ],
   "source": [
    "history = model.fit(\n",
    "    X_train, y_train, epochs=30\n",
    "    ,validation_data=(X_valid, y_valid)\n",
    ")"
   ]
  },
  {
   "cell_type": "markdown",
   "metadata": {},
   "source": [
    "Visualizing the loss function, as well as the accuracy of our model"
   ]
  },
  {
   "cell_type": "code",
   "execution_count": 19,
   "metadata": {},
   "outputs": [
    {
     "data": {
      "image/png": "[encoded data removed]",
      "text/plain": [
       "<Figure size 1080x720 with 1 Axes>"
      ]
     },
     "metadata": {
      "needs_background": "light"
     },
     "output_type": "display_data"
    }
   ],
   "source": [
    "pd.DataFrame(history.history).plot(figsize=(15,10))\n",
    "plt.grid(True)\n",
    "plt.gca().set_ylim(0,1)\n",
    "plt.show();"
   ]
  },
  {
   "cell_type": "markdown",
   "metadata": {},
   "source": [
    "We can see from the below the model achieves an accuracy of ~84% on the test dataset"
   ]
  },
  {
   "cell_type": "code",
   "execution_count": 20,
   "metadata": {},
   "outputs": [
    {
     "name": "stdout",
     "output_type": "stream",
     "text": [
      "10000/10000 [==============================] - 0s 17us/sample - loss: 73.3226 - acc: 0.8407\n"
     ]
    },
    {
     "data": {
      "text/plain": [
       "[73.32260058033467, 0.8407]"
      ]
     },
     "execution_count": 20,
     "metadata": {},
     "output_type": "execute_result"
    }
   ],
   "source": [
    "model.evaluate(X_test, y_test)"
   ]
  },
  {
   "cell_type": "markdown",
   "metadata": {},
   "source": [
    "Predicting the first 3 values of our test data..."
   ]
  },
  {
   "cell_type": "code",
   "execution_count": 21,
   "metadata": {},
   "outputs": [
    {
     "data": {
      "text/plain": [
       "array([[0., 0., 0., 0., 0., 0., 0., 0., 0., 1.],\n",
       "       [0., 0., 1., 0., 0., 0., 0., 0., 0., 0.],\n",
       "       [0., 1., 0., 0., 0., 0., 0., 0., 0., 0.]], dtype=float32)"
      ]
     },
     "execution_count": 21,
     "metadata": {},
     "output_type": "execute_result"
    }
   ],
   "source": [
    "X_new = X_test[:3]\n",
    "y_prob = model.predict(X_new)\n",
    "y_prob.round(2)"
   ]
  },
  {
   "cell_type": "markdown",
   "metadata": {},
   "source": [
    "Our model has classified the first three itmes as (9, 2, 1), respectively, meaning Ankle boot, Pullover, and Trouser"
   ]
  },
  {
   "cell_type": "code",
   "execution_count": 22,
   "metadata": {},
   "outputs": [
    {
     "data": {
      "text/plain": [
       "array([9, 2, 1], dtype=int64)"
      ]
     },
     "execution_count": 22,
     "metadata": {},
     "output_type": "execute_result"
    }
   ],
   "source": [
    "y_pred = model.predict_classes(X_new)\n",
    "y_pred"
   ]
  },
  {
   "cell_type": "code",
   "execution_count": 25,
   "metadata": {},
   "outputs": [
    {
     "data": {
      "text/plain": [
       "array(['Ankle boot', 'Pullover', 'Trouser'], dtype='<U11')"
      ]
     },
     "execution_count": 25,
     "metadata": {},
     "output_type": "execute_result"
    }
   ],
   "source": [
    "np.array(class_names)[y_pred]"
   ]
  },
  {
   "cell_type": "markdown",
   "metadata": {},
   "source": [
    "Looking at the actual 3 values of the test data, we see that in fact our predictions were correct!"
   ]
  },
  {
   "cell_type": "code",
   "execution_count": 26,
   "metadata": {},
   "outputs": [
    {
     "data": {
      "text/plain": [
       "array([9, 2, 1], dtype=uint8)"
      ]
     },
     "execution_count": 26,
     "metadata": {},
     "output_type": "execute_result"
    }
   ],
   "source": [
    "y_test[:3]"
   ]
  },
  {
   "cell_type": "markdown",
   "metadata": {},
   "source": [
    "### MNIST Digits"
   ]
  },
  {
   "cell_type": "code",
   "execution_count": 34,
   "metadata": {},
   "outputs": [],
   "source": [
    "digits_mnist = keras.datasets.mnist"
   ]
  },
  {
   "cell_type": "markdown",
   "metadata": {},
   "source": [
    "Preparing our test/train/validate sets"
   ]
  },
  {
   "cell_type": "code",
   "execution_count": 35,
   "metadata": {},
   "outputs": [
    {
     "name": "stdout",
     "output_type": "stream",
     "text": [
      "Downloading data from https://storage.googleapis.com/tensorflow/tf-keras-datasets/mnist.npz\n",
      "11493376/11490434 [==============================] - 1s 0us/step\n"
     ]
    }
   ],
   "source": [
    "(X_train_full, y_train_full), (X_test, y_test) = digits_mnist.load_data()"
   ]
  },
  {
   "cell_type": "code",
   "execution_count": 37,
   "metadata": {},
   "outputs": [
    {
     "data": {
      "text/plain": [
       "(60000, 28, 28)"
      ]
     },
     "execution_count": 37,
     "metadata": {},
     "output_type": "execute_result"
    }
   ],
   "source": [
    "X_train_full.shape"
   ]
  },
  {
   "cell_type": "code",
   "execution_count": 38,
   "metadata": {},
   "outputs": [],
   "source": [
    "X_valid, X_train = X_train_full[:5000] / 255.0, X_train_full[5000:] / 255.0\n",
    "y_valid, y_train = y_train_full[:5000], y_train_full[5000:]"
   ]
  },
  {
   "cell_type": "markdown",
   "metadata": {},
   "source": [
    "Building our 2 hidden-layer NN"
   ]
  },
  {
   "cell_type": "code",
   "execution_count": 40,
   "metadata": {},
   "outputs": [],
   "source": [
    "model = keras.models.Sequential()\n",
    "model.add(keras.layers.Flatten(input_shape=[28,28]))\n",
    "model.add(keras.layers.Dense(300, activation=\"relu\"))\n",
    "model.add(keras.layers.Dense(100, activation=\"relu\"))         \n",
    "model.add(keras.layers.Dense(10, activation=\"softmax\"))"
   ]
  },
  {
   "cell_type": "code",
   "execution_count": 41,
   "metadata": {},
   "outputs": [
    {
     "name": "stdout",
     "output_type": "stream",
     "text": [
      "Model: \"sequential_2\"\n",
      "_________________________________________________________________\n",
      "Layer (type)                 Output Shape              Param #   \n",
      "=================================================================\n",
      "flatten_1 (Flatten)          (None, 784)               0         \n",
      "_________________________________________________________________\n",
      "dense_3 (Dense)              (None, 300)               235500    \n",
      "_________________________________________________________________\n",
      "dense_4 (Dense)              (None, 100)               30100     \n",
      "_________________________________________________________________\n",
      "dense_5 (Dense)              (None, 10)                1010      \n",
      "=================================================================\n",
      "Total params: 266,610\n",
      "Trainable params: 266,610\n",
      "Non-trainable params: 0\n",
      "_________________________________________________________________\n"
     ]
    }
   ],
   "source": [
    "model.summary()"
   ]
  },
  {
   "cell_type": "markdown",
   "metadata": {},
   "source": [
    "Compiling and fitting our 2 layer NN"
   ]
  },
  {
   "cell_type": "code",
   "execution_count": 42,
   "metadata": {},
   "outputs": [],
   "source": [
    "model.compile(\n",
    "    loss=\"sparse_categorical_crossentropy\"\n",
    "    ,optimizer=\"sgd\"\n",
    "    ,metrics=[\"accuracy\"]\n",
    ")"
   ]
  },
  {
   "cell_type": "code",
   "execution_count": 43,
   "metadata": {},
   "outputs": [
    {
     "name": "stdout",
     "output_type": "stream",
     "text": [
      "Train on 55000 samples, validate on 5000 samples\n",
      "Epoch 1/30\n",
      "55000/55000 [==============================] - 2s 37us/sample - loss: 0.6207 - acc: 0.8417 - val_loss: 0.3114 - val_acc: 0.9118\n",
      "Epoch 2/30\n",
      "55000/55000 [==============================] - 2s 34us/sample - loss: 0.2902 - acc: 0.9176 - val_loss: 0.2403 - val_acc: 0.9360\n",
      "Epoch 3/30\n",
      "55000/55000 [==============================] - 2s 34us/sample - loss: 0.2366 - acc: 0.9319 - val_loss: 0.2051 - val_acc: 0.9424\n",
      "Epoch 4/30\n",
      "55000/55000 [==============================] - 2s 34us/sample - loss: 0.2017 - acc: 0.9422 - val_loss: 0.1833 - val_acc: 0.9466\n",
      "Epoch 5/30\n",
      "55000/55000 [==============================] - 2s 34us/sample - loss: 0.1761 - acc: 0.9493 - val_loss: 0.1610 - val_acc: 0.9554\n",
      "Epoch 6/30\n",
      "55000/55000 [==============================] - 2s 35us/sample - loss: 0.1556 - acc: 0.9560 - val_loss: 0.1477 - val_acc: 0.9614\n",
      "Epoch 7/30\n",
      "55000/55000 [==============================] - 2s 36us/sample - loss: 0.1390 - acc: 0.9608 - val_loss: 0.1363 - val_acc: 0.9618\n",
      "Epoch 8/30\n",
      "55000/55000 [==============================] - 2s 37us/sample - loss: 0.1249 - acc: 0.9645 - val_loss: 0.1238 - val_acc: 0.9654\n",
      "Epoch 9/30\n",
      "55000/55000 [==============================] - 2s 36us/sample - loss: 0.1132 - acc: 0.9684 - val_loss: 0.1163 - val_acc: 0.9692\n",
      "Epoch 10/30\n",
      "55000/55000 [==============================] - 2s 36us/sample - loss: 0.1036 - acc: 0.9705 - val_loss: 0.1084 - val_acc: 0.9706\n",
      "Epoch 11/30\n",
      "55000/55000 [==============================] - 2s 35us/sample - loss: 0.0951 - acc: 0.9730 - val_loss: 0.1052 - val_acc: 0.9718\n",
      "Epoch 12/30\n",
      "55000/55000 [==============================] - 2s 36us/sample - loss: 0.0874 - acc: 0.9752 - val_loss: 0.0998 - val_acc: 0.9728\n",
      "Epoch 13/30\n",
      "55000/55000 [==============================] - 2s 36us/sample - loss: 0.0808 - acc: 0.9773 - val_loss: 0.0945 - val_acc: 0.9724\n",
      "Epoch 14/30\n",
      "55000/55000 [==============================] - 2s 36us/sample - loss: 0.0748 - acc: 0.9794 - val_loss: 0.0894 - val_acc: 0.9758\n",
      "Epoch 15/30\n",
      "55000/55000 [==============================] - 2s 35us/sample - loss: 0.0698 - acc: 0.9805 - val_loss: 0.0902 - val_acc: 0.9742\n",
      "Epoch 16/30\n",
      "55000/55000 [==============================] - 2s 36us/sample - loss: 0.0651 - acc: 0.9821 - val_loss: 0.0845 - val_acc: 0.9764\n",
      "Epoch 17/30\n",
      "55000/55000 [==============================] - 2s 36us/sample - loss: 0.0609 - acc: 0.9834 - val_loss: 0.0851 - val_acc: 0.9764\n",
      "Epoch 18/30\n",
      "55000/55000 [==============================] - 2s 36us/sample - loss: 0.0568 - acc: 0.9846 - val_loss: 0.0799 - val_acc: 0.9772\n",
      "Epoch 19/30\n",
      "55000/55000 [==============================] - 2s 37us/sample - loss: 0.0534 - acc: 0.9854 - val_loss: 0.0787 - val_acc: 0.9764\n",
      "Epoch 20/30\n",
      "55000/55000 [==============================] - 2s 35us/sample - loss: 0.0498 - acc: 0.9863 - val_loss: 0.0762 - val_acc: 0.9788\n",
      "Epoch 21/30\n",
      "55000/55000 [==============================] - 2s 36us/sample - loss: 0.0467 - acc: 0.9879 - val_loss: 0.0764 - val_acc: 0.9784\n",
      "Epoch 22/30\n",
      "55000/55000 [==============================] - 2s 35us/sample - loss: 0.0441 - acc: 0.9884 - val_loss: 0.0736 - val_acc: 0.9784\n",
      "Epoch 23/30\n",
      "55000/55000 [==============================] - 2s 34us/sample - loss: 0.0415 - acc: 0.9895 - val_loss: 0.0726 - val_acc: 0.9794\n",
      "Epoch 24/30\n",
      "55000/55000 [==============================] - 2s 36us/sample - loss: 0.0390 - acc: 0.9899 - val_loss: 0.0710 - val_acc: 0.9800\n",
      "Epoch 25/30\n",
      "55000/55000 [==============================] - 2s 35us/sample - loss: 0.0368 - acc: 0.9908 - val_loss: 0.0695 - val_acc: 0.9794\n",
      "Epoch 26/30\n",
      "55000/55000 [==============================] - 2s 36us/sample - loss: 0.0348 - acc: 0.9915 - val_loss: 0.0754 - val_acc: 0.9782\n",
      "Epoch 27/30\n",
      "55000/55000 [==============================] - 2s 34us/sample - loss: 0.0328 - acc: 0.9920 - val_loss: 0.0696 - val_acc: 0.9796\n",
      "Epoch 28/30\n",
      "55000/55000 [==============================] - 2s 37us/sample - loss: 0.0312 - acc: 0.9926 - val_loss: 0.0685 - val_acc: 0.9806\n",
      "Epoch 29/30\n",
      "55000/55000 [==============================] - 2s 35us/sample - loss: 0.0294 - acc: 0.9934 - val_loss: 0.0681 - val_acc: 0.9800\n",
      "Epoch 30/30\n",
      "55000/55000 [==============================] - 2s 35us/sample - loss: 0.0277 - acc: 0.9937 - val_loss: 0.0668 - val_acc: 0.9808\n"
     ]
    }
   ],
   "source": [
    "history = model.fit(\n",
    "    X_train, y_train, epochs=30\n",
    "    ,validation_data=(X_valid, y_valid)\n",
    ")"
   ]
  },
  {
   "cell_type": "markdown",
   "metadata": {},
   "source": [
    "Visualizing the loss and accuracy of our model"
   ]
  },
  {
   "cell_type": "code",
   "execution_count": 44,
   "metadata": {},
   "outputs": [
    {
     "data": {
      "image/png": "[encoded data removed]",
      "text/plain": [
       "<Figure size 1080x720 with 1 Axes>"
      ]
     },
     "metadata": {
      "needs_background": "light"
     },
     "output_type": "display_data"
    }
   ],
   "source": [
    "pd.DataFrame(history.history).plot(figsize=(15,10))\n",
    "plt.grid(True)\n",
    "plt.gca().set_ylim(0,1)\n",
    "plt.show();"
   ]
  },
  {
   "cell_type": "markdown",
   "metadata": {},
   "source": [
    "Looking at the accuracy of our model, we see, after training, an accuracy of ~97%!"
   ]
  },
  {
   "cell_type": "code",
   "execution_count": 45,
   "metadata": {},
   "outputs": [
    {
     "name": "stdout",
     "output_type": "stream",
     "text": [
      "10000/10000 [==============================] - 0s 18us/sample - loss: 13.2209 - acc: 0.9761\n"
     ]
    },
    {
     "data": {
      "text/plain": [
       "[13.220874617290496, 0.9761]"
      ]
     },
     "execution_count": 45,
     "metadata": {},
     "output_type": "execute_result"
    }
   ],
   "source": [
    "model.evaluate(X_test, y_test)"
   ]
  },
  {
   "cell_type": "markdown",
   "metadata": {},
   "source": [
    "Using our trained model to predict the first 3 values of the test data (for demonstration), we see that our model classifies the first 3 values as the digits 7, 2, and 1, with 100% certainty."
   ]
  },
  {
   "cell_type": "code",
   "execution_count": 46,
   "metadata": {},
   "outputs": [
    {
     "data": {
      "text/plain": [
       "array([[0., 0., 0., 0., 0., 0., 0., 1., 0., 0.],\n",
       "       [0., 0., 1., 0., 0., 0., 0., 0., 0., 0.],\n",
       "       [0., 1., 0., 0., 0., 0., 0., 0., 0., 0.]], dtype=float32)"
      ]
     },
     "execution_count": 46,
     "metadata": {},
     "output_type": "execute_result"
    }
   ],
   "source": [
    "X_new = X_test[:3]\n",
    "y_prob = model.predict(X_new)\n",
    "y_prob.round(2)"
   ]
  },
  {
   "cell_type": "markdown",
   "metadata": {},
   "source": [
    "Again, shown with the first 3 values of our test data, our model has correctly predicted the digits!"
   ]
  },
  {
   "cell_type": "code",
   "execution_count": 47,
   "metadata": {},
   "outputs": [
    {
     "data": {
      "text/plain": [
       "array([7, 2, 1], dtype=uint8)"
      ]
     },
     "execution_count": 47,
     "metadata": {},
     "output_type": "execute_result"
    }
   ],
   "source": [
    "y_test[:3]"
   ]
  },
  {
   "cell_type": "code",
   "execution_count": null,
   "metadata": {},
   "outputs": [],
   "source": []
  }
 ],
 "metadata": {
  "kernelspec": {
   "display_name": "Python 3",
   "language": "python",
   "name": "python3"
  },
  "language_info": {
   "codemirror_mode": {
    "name": "ipython",
    "version": 3
   },
   "file_extension": ".py",
   "mimetype": "text/x-python",
   "name": "python",
   "nbconvert_exporter": "python",
   "pygments_lexer": "ipython3",
   "version": "3.7.6"
  }
 },
 "nbformat": 4,
 "nbformat_minor": 4
}
